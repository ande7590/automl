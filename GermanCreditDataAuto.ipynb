{
 "cells": [
  {
   "cell_type": "code",
   "execution_count": 1,
   "metadata": {},
   "outputs": [
    {
     "name": "stderr",
     "output_type": "stream",
     "text": [
      "/usr/local/lib/python3.8/site-packages/pyparsing.py:3190: FutureWarning: Possible set intersection at position 3\n",
      "  self.re = re.compile(self.reString)\n"
     ]
    }
   ],
   "source": [
    "import numpy as np\n",
    "import autosklearn.classification\n",
    "import sklearn.model_selection\n",
    "import sklearn.datasets\n",
    "import sklearn.metrics"
   ]
  },
  {
   "cell_type": "markdown",
   "metadata": {},
   "source": [
    "@eaDir              X_train_subset.ndarr  y_test_raw.ndarr     y_train_raw.ndarr\n",
    "X_test_all.ndarr  X_train_all.ndarr    german_credit.csv     y_test_subset.ndarr  y_train_subset.ndarr\n",
    "X_test_raw.ndarr  X_train_raw.ndarr    y_test_all.ndarr      y_train_all.ndarr"
   ]
  },
  {
   "cell_type": "code",
   "execution_count": 18,
   "metadata": {},
   "outputs": [],
   "source": [
    "X_train_all = np.load('/artifacts/X_train_all.ndarr.npy')\n",
    "X_test_all = np.load('/artifacts/X_test_all.ndarr.npy')\n",
    "y_train_all = np.load('/artifacts/y_train_all.ndarr.npy')\n",
    "y_test_all = np.load('/artifacts/y_test_all.ndarr.npy')"
   ]
  },
  {
   "cell_type": "code",
   "execution_count": 23,
   "metadata": {},
   "outputs": [],
   "source": [
    "automl = autosklearn.classification.AutoSklearnClassifier(\n",
    "    time_left_for_this_task=600,\n",
    "    metric=autosklearn.metrics.f1,\n",
    "    ensemble_size=5)\n",
    "\n",
    "_ = automl.fit(X_train_all, y_train_all)"
   ]
  },
  {
   "cell_type": "code",
   "execution_count": 24,
   "metadata": {},
   "outputs": [
    {
     "data": {
      "text/plain": [
       "(0.65, 0.6547619047619048)"
      ]
     },
     "execution_count": 24,
     "metadata": {},
     "output_type": "execute_result"
    }
   ],
   "source": [
    "from sklearn.metrics import accuracy_score, balanced_accuracy_score, confusion_matrix\n",
    "y_pred_test = automl.predict(X_test_all)\n",
    "(\n",
    "    accuracy_score(y_test_all, y_pred_test),\n",
    "    balanced_accuracy_score(y_test_all, y_pred_test)\n",
    ")"
   ]
  },
  {
   "cell_type": "code",
   "execution_count": 25,
   "metadata": {},
   "outputs": [
    {
     "data": {
      "text/plain": [
       "array([[0.64285714, 0.35714286],\n",
       "       [0.33333333, 0.66666667]])"
      ]
     },
     "execution_count": 25,
     "metadata": {},
     "output_type": "execute_result"
    }
   ],
   "source": [
    "cm = confusion_matrix(y_test_all, y_pred_test)\n",
    "\n",
    "cm / np.sum(cm, axis=1).reshape(-1, 1)"
   ]
  },
  {
   "cell_type": "code",
   "execution_count": 26,
   "metadata": {},
   "outputs": [
    {
     "data": {
      "text/plain": [
       "[(0.6, 0.6533333333333333, 0.6603174603174604),\n",
       " (0.4, 0.6566666666666666, 0.6595238095238095)]"
      ]
     },
     "execution_count": 26,
     "metadata": {},
     "output_type": "execute_result"
    }
   ],
   "source": [
    "models = list(enumerate(automl.get_models_with_weights()))\n",
    "results = []\n",
    "for m in models:\n",
    "    m_est = m[1][1]\n",
    "    m_wt = m[1][0]\n",
    "    y_pred_test2 = m_est.predict(X_test_all)\n",
    "    results.append(\n",
    "    (\n",
    "        m_wt,\n",
    "        accuracy_score(y_test_all, y_pred_test2),\n",
    "        balanced_accuracy_score(y_test_all, y_pred_test2)\n",
    "    ))\n",
    "results"
   ]
  }
 ],
 "metadata": {
  "kernelspec": {
   "display_name": "Python 3",
   "language": "python",
   "name": "python3"
  },
  "language_info": {
   "codemirror_mode": {
    "name": "ipython",
    "version": 3
   },
   "file_extension": ".py",
   "mimetype": "text/x-python",
   "name": "python",
   "nbconvert_exporter": "python",
   "pygments_lexer": "ipython3",
   "version": "3.8.3"
  }
 },
 "nbformat": 4,
 "nbformat_minor": 4
}
